{
 "cells": [
  {
   "cell_type": "markdown",
   "id": "bbc3b297-8b3d-41da-bad2-370321c42156",
   "metadata": {},
   "source": [
    "# Coursera part 5 project"
   ]
  },
  {
   "cell_type": "markdown",
   "id": "da6c6be3-4551-4e6b-b9bd-6dab9bb2cc80",
   "metadata": {},
   "source": [
    "# Introduction"
   ]
  },
  {
   "cell_type": "markdown",
   "id": "335d933e-ab2e-47a8-b090-002fdbf10c8b",
   "metadata": {},
   "source": [
    "# Data Science Basics in Jupyter Notebook"
   ]
  },
  {
   "cell_type": "markdown",
   "id": "d35ab1f7-63f1-420b-99ea-11a75881f559",
   "metadata": {},
   "source": [
    "### Common Data Science Languages\n",
    "##### The following are some of the most common languages used in Data Science\n",
    "- Python\n",
    "- R\n",
    "- Scala \n",
    "- SQL\n",
    "- Julia"
   ]
  },
  {
   "cell_type": "markdown",
   "id": "99062a17-4bdb-4975-bae8-afc6e0679194",
   "metadata": {},
   "source": [
    "### Data Science Libraries\n",
    "##### Some of the most widely used libraries in data science are:\n",
    "- Pandas\n",
    "- Numpy\n",
    "- Scikit-Learn\n",
    "- Matplotlib\n",
    "- TensorFlow\n",
    "- Keras\n",
    "- Seaborn"
   ]
  },
  {
   "cell_type": "markdown",
   "id": "ee2fe371-cd6e-461e-a2c2-607268b06168",
   "metadata": {},
   "source": [
    "### Data Science Tools\n",
    "| Tool |\n",
    "| -----|\n",
    "| Jupyter |\n",
    "| RStudio |\n",
    "| Apache Spark |\n",
    "| Tableau |\n",
    "| TensorFlow |"
   ]
  },
  {
   "cell_type": "markdown",
   "id": "66f85256-d2bb-4972-ad4e-06978e65968a",
   "metadata": {},
   "source": [
    "| Tool            |\n",
    "|-----------------|\n",
    "| Jupyter         |\n",
    "| RStudio         |\n",
    "| Apache Spark    |\n",
    "| Tableau         |\n",
    "| TensorFlow      |"
   ]
  },
  {
   "cell_type": "markdown",
   "id": "e4274369-142d-4b8b-aaf4-d133455ba738",
   "metadata": {},
   "source": [
    "### Arithmetic Expression Examples\n",
    "##### Here are a few examples of basic arithmetic expressions:\n",
    "- **Addition**: 5 + 10 = 15\n",
    "- **Subtraction**: 20-10 = 10\n",
    "- **Multiplication**: 4 * 8 = 32\n",
    "- **Division**: 25 / 5 = 5\n",
    "- **Exponential**: 2 ** 3 = 8"
   ]
  },
  {
   "cell_type": "markdown",
   "id": "c81f501f-78ce-49cb-8929-0e492c080a73",
   "metadata": {},
   "source": [
    "### Multiply and Add numbers"
   ]
  },
  {
   "cell_type": "code",
   "execution_count": 5,
   "id": "68293efb-f880-4838-b429-026c41cbd089",
   "metadata": {},
   "outputs": [
    {
     "name": "stdout",
     "output_type": "stream",
     "text": [
      "The answer is: 17\n"
     ]
    }
   ],
   "source": [
    "result = 3 * 4 + 5\n",
    "print(\"The answer is:\", result)"
   ]
  },
  {
   "cell_type": "markdown",
   "id": "dfc2259d-872d-4480-bc6b-6db712082091",
   "metadata": {},
   "source": [
    "### Converts minutes to hours"
   ]
  },
  {
   "cell_type": "code",
   "execution_count": 6,
   "id": "a68be6e1-b7f8-4c8f-a8fd-e6ef95e41788",
   "metadata": {},
   "outputs": [
    {
     "name": "stdout",
     "output_type": "stream",
     "text": [
      "60 minutes is equal to 1.0 hours\n"
     ]
    }
   ],
   "source": [
    "minutes = 60\n",
    "hours = minutes / 60\n",
    "print(f\"{minutes} minutes is equal to {hours} hours\")"
   ]
  },
  {
   "cell_type": "markdown",
   "id": "1392dcf0-2130-4a67-9e7b-f5a959aea8dc",
   "metadata": {},
   "source": [
    "### List Objectives\n",
    "##### Key objectives to focus on:\n",
    "- Understand the basics of data science and its tools\n",
    "- Learn to use open source tools for data analysis\n",
    "- Practice Python programming fundamentals"
   ]
  },
  {
   "cell_type": "markdown",
   "id": "c757dd48-9300-4c04-9ccc-6814e1375bcd",
   "metadata": {},
   "source": [
    "### Author's Name\n",
    "- Michael Trevino"
   ]
  }
 ],
 "metadata": {
  "kernelspec": {
   "display_name": "Python [conda env:base] *",
   "language": "python",
   "name": "conda-base-py"
  },
  "language_info": {
   "codemirror_mode": {
    "name": "ipython",
    "version": 3
   },
   "file_extension": ".py",
   "mimetype": "text/x-python",
   "name": "python",
   "nbconvert_exporter": "python",
   "pygments_lexer": "ipython3",
   "version": "3.12.7"
  }
 },
 "nbformat": 4,
 "nbformat_minor": 5
}
